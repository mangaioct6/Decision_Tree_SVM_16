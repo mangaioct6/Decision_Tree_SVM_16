{
 "cells": [
  {
   "cell_type": "code",
   "execution_count": 1,
   "id": "acafe260",
   "metadata": {},
   "outputs": [
    {
     "data": {
      "text/plain": [
       "[1, 3, 5, 7, 9]"
      ]
     },
     "execution_count": 1,
     "metadata": {},
     "output_type": "execute_result"
    }
   ],
   "source": [
    "# warmup\n",
    "num_list = [1,2,3,4,5,6,7,8,9,10]\n",
    "odd_list = list(filter(lambda x : x % 2!= 0,num_list))\n",
    "odd_list"
   ]
  },
  {
   "cell_type": "code",
   "execution_count": 7,
   "id": "36f563b5",
   "metadata": {},
   "outputs": [],
   "source": [
    "import pandas as pd\n",
    "import numpy as np\n",
    "import matplotlib.pyplot as plt\n",
    "from sklearn.preprocessing import StandardScaler,MinMaxScaler\n",
    "from sklearn.model_selection import train_test_split,GridSearchCV,RandomizedSearchCV\n",
    "from sklearn.metrics import classification_report, ConfusionMatrixDisplay, confusion_matrix, roc_auc_score, roc_curve\n",
    "from imblearn.over_sampling import SMOTE\n",
    "from imblearn.metrics import classification_report_imbalanced\n",
    "from sklearn import tree"
   ]
  },
  {
   "cell_type": "code",
   "execution_count": 2,
   "id": "df19b634",
   "metadata": {},
   "outputs": [
    {
     "data": {
      "text/html": [
       "<div>\n",
       "<style scoped>\n",
       "    .dataframe tbody tr th:only-of-type {\n",
       "        vertical-align: middle;\n",
       "    }\n",
       "\n",
       "    .dataframe tbody tr th {\n",
       "        vertical-align: top;\n",
       "    }\n",
       "\n",
       "    .dataframe thead th {\n",
       "        text-align: right;\n",
       "    }\n",
       "</style>\n",
       "<table border=\"1\" class=\"dataframe\">\n",
       "  <thead>\n",
       "    <tr style=\"text-align: right;\">\n",
       "      <th></th>\n",
       "      <th>Pregnancies</th>\n",
       "      <th>Glucose</th>\n",
       "      <th>BloodPressure</th>\n",
       "      <th>SkinThickness</th>\n",
       "      <th>Insulin</th>\n",
       "      <th>BMI</th>\n",
       "      <th>DiabetesPedigreeFunction</th>\n",
       "      <th>Age</th>\n",
       "      <th>Outcome</th>\n",
       "    </tr>\n",
       "  </thead>\n",
       "  <tbody>\n",
       "    <tr>\n",
       "      <th>0</th>\n",
       "      <td>6</td>\n",
       "      <td>148</td>\n",
       "      <td>72</td>\n",
       "      <td>35</td>\n",
       "      <td>0</td>\n",
       "      <td>33.6</td>\n",
       "      <td>0.627</td>\n",
       "      <td>50</td>\n",
       "      <td>1</td>\n",
       "    </tr>\n",
       "    <tr>\n",
       "      <th>1</th>\n",
       "      <td>1</td>\n",
       "      <td>85</td>\n",
       "      <td>66</td>\n",
       "      <td>29</td>\n",
       "      <td>0</td>\n",
       "      <td>26.6</td>\n",
       "      <td>0.351</td>\n",
       "      <td>31</td>\n",
       "      <td>0</td>\n",
       "    </tr>\n",
       "    <tr>\n",
       "      <th>2</th>\n",
       "      <td>8</td>\n",
       "      <td>183</td>\n",
       "      <td>64</td>\n",
       "      <td>0</td>\n",
       "      <td>0</td>\n",
       "      <td>23.3</td>\n",
       "      <td>0.672</td>\n",
       "      <td>32</td>\n",
       "      <td>1</td>\n",
       "    </tr>\n",
       "    <tr>\n",
       "      <th>3</th>\n",
       "      <td>1</td>\n",
       "      <td>89</td>\n",
       "      <td>66</td>\n",
       "      <td>23</td>\n",
       "      <td>94</td>\n",
       "      <td>28.1</td>\n",
       "      <td>0.167</td>\n",
       "      <td>21</td>\n",
       "      <td>0</td>\n",
       "    </tr>\n",
       "    <tr>\n",
       "      <th>4</th>\n",
       "      <td>0</td>\n",
       "      <td>137</td>\n",
       "      <td>40</td>\n",
       "      <td>35</td>\n",
       "      <td>168</td>\n",
       "      <td>43.1</td>\n",
       "      <td>2.288</td>\n",
       "      <td>33</td>\n",
       "      <td>1</td>\n",
       "    </tr>\n",
       "  </tbody>\n",
       "</table>\n",
       "</div>"
      ],
      "text/plain": [
       "   Pregnancies  Glucose  BloodPressure  SkinThickness  Insulin   BMI  \\\n",
       "0            6      148             72             35        0  33.6   \n",
       "1            1       85             66             29        0  26.6   \n",
       "2            8      183             64              0        0  23.3   \n",
       "3            1       89             66             23       94  28.1   \n",
       "4            0      137             40             35      168  43.1   \n",
       "\n",
       "   DiabetesPedigreeFunction  Age  Outcome  \n",
       "0                     0.627   50        1  \n",
       "1                     0.351   31        0  \n",
       "2                     0.672   32        1  \n",
       "3                     0.167   21        0  \n",
       "4                     2.288   33        1  "
      ]
     },
     "execution_count": 2,
     "metadata": {},
     "output_type": "execute_result"
    }
   ],
   "source": [
    "pima_df = pd.read_csv('../SupervisedML_13/diabetes.csv')\n",
    "pima_df.head()"
   ]
  },
  {
   "cell_type": "code",
   "execution_count": 3,
   "id": "94cae047",
   "metadata": {},
   "outputs": [
    {
     "data": {
      "text/html": [
       "<div>\n",
       "<style scoped>\n",
       "    .dataframe tbody tr th:only-of-type {\n",
       "        vertical-align: middle;\n",
       "    }\n",
       "\n",
       "    .dataframe tbody tr th {\n",
       "        vertical-align: top;\n",
       "    }\n",
       "\n",
       "    .dataframe thead th {\n",
       "        text-align: right;\n",
       "    }\n",
       "</style>\n",
       "<table border=\"1\" class=\"dataframe\">\n",
       "  <thead>\n",
       "    <tr style=\"text-align: right;\">\n",
       "      <th></th>\n",
       "      <th>Pregnancies</th>\n",
       "      <th>Glucose</th>\n",
       "      <th>BloodPressure</th>\n",
       "      <th>SkinThickness</th>\n",
       "      <th>Insulin</th>\n",
       "      <th>BMI</th>\n",
       "      <th>DiabetesPedigreeFunction</th>\n",
       "      <th>Age</th>\n",
       "      <th>Outcome</th>\n",
       "    </tr>\n",
       "  </thead>\n",
       "  <tbody>\n",
       "    <tr>\n",
       "      <th>count</th>\n",
       "      <td>768.000000</td>\n",
       "      <td>768.000000</td>\n",
       "      <td>768.000000</td>\n",
       "      <td>768.000000</td>\n",
       "      <td>768.000000</td>\n",
       "      <td>768.000000</td>\n",
       "      <td>768.000000</td>\n",
       "      <td>768.000000</td>\n",
       "      <td>768.000000</td>\n",
       "    </tr>\n",
       "    <tr>\n",
       "      <th>mean</th>\n",
       "      <td>3.845052</td>\n",
       "      <td>120.894531</td>\n",
       "      <td>69.105469</td>\n",
       "      <td>20.536458</td>\n",
       "      <td>79.799479</td>\n",
       "      <td>31.992578</td>\n",
       "      <td>0.471876</td>\n",
       "      <td>33.240885</td>\n",
       "      <td>0.348958</td>\n",
       "    </tr>\n",
       "    <tr>\n",
       "      <th>std</th>\n",
       "      <td>3.369578</td>\n",
       "      <td>31.972618</td>\n",
       "      <td>19.355807</td>\n",
       "      <td>15.952218</td>\n",
       "      <td>115.244002</td>\n",
       "      <td>7.884160</td>\n",
       "      <td>0.331329</td>\n",
       "      <td>11.760232</td>\n",
       "      <td>0.476951</td>\n",
       "    </tr>\n",
       "    <tr>\n",
       "      <th>min</th>\n",
       "      <td>0.000000</td>\n",
       "      <td>0.000000</td>\n",
       "      <td>0.000000</td>\n",
       "      <td>0.000000</td>\n",
       "      <td>0.000000</td>\n",
       "      <td>0.000000</td>\n",
       "      <td>0.078000</td>\n",
       "      <td>21.000000</td>\n",
       "      <td>0.000000</td>\n",
       "    </tr>\n",
       "    <tr>\n",
       "      <th>25%</th>\n",
       "      <td>1.000000</td>\n",
       "      <td>99.000000</td>\n",
       "      <td>62.000000</td>\n",
       "      <td>0.000000</td>\n",
       "      <td>0.000000</td>\n",
       "      <td>27.300000</td>\n",
       "      <td>0.243750</td>\n",
       "      <td>24.000000</td>\n",
       "      <td>0.000000</td>\n",
       "    </tr>\n",
       "    <tr>\n",
       "      <th>50%</th>\n",
       "      <td>3.000000</td>\n",
       "      <td>117.000000</td>\n",
       "      <td>72.000000</td>\n",
       "      <td>23.000000</td>\n",
       "      <td>30.500000</td>\n",
       "      <td>32.000000</td>\n",
       "      <td>0.372500</td>\n",
       "      <td>29.000000</td>\n",
       "      <td>0.000000</td>\n",
       "    </tr>\n",
       "    <tr>\n",
       "      <th>75%</th>\n",
       "      <td>6.000000</td>\n",
       "      <td>140.250000</td>\n",
       "      <td>80.000000</td>\n",
       "      <td>32.000000</td>\n",
       "      <td>127.250000</td>\n",
       "      <td>36.600000</td>\n",
       "      <td>0.626250</td>\n",
       "      <td>41.000000</td>\n",
       "      <td>1.000000</td>\n",
       "    </tr>\n",
       "    <tr>\n",
       "      <th>max</th>\n",
       "      <td>17.000000</td>\n",
       "      <td>199.000000</td>\n",
       "      <td>122.000000</td>\n",
       "      <td>99.000000</td>\n",
       "      <td>846.000000</td>\n",
       "      <td>67.100000</td>\n",
       "      <td>2.420000</td>\n",
       "      <td>81.000000</td>\n",
       "      <td>1.000000</td>\n",
       "    </tr>\n",
       "  </tbody>\n",
       "</table>\n",
       "</div>"
      ],
      "text/plain": [
       "       Pregnancies     Glucose  BloodPressure  SkinThickness     Insulin  \\\n",
       "count   768.000000  768.000000     768.000000     768.000000  768.000000   \n",
       "mean      3.845052  120.894531      69.105469      20.536458   79.799479   \n",
       "std       3.369578   31.972618      19.355807      15.952218  115.244002   \n",
       "min       0.000000    0.000000       0.000000       0.000000    0.000000   \n",
       "25%       1.000000   99.000000      62.000000       0.000000    0.000000   \n",
       "50%       3.000000  117.000000      72.000000      23.000000   30.500000   \n",
       "75%       6.000000  140.250000      80.000000      32.000000  127.250000   \n",
       "max      17.000000  199.000000     122.000000      99.000000  846.000000   \n",
       "\n",
       "              BMI  DiabetesPedigreeFunction         Age     Outcome  \n",
       "count  768.000000                768.000000  768.000000  768.000000  \n",
       "mean    31.992578                  0.471876   33.240885    0.348958  \n",
       "std      7.884160                  0.331329   11.760232    0.476951  \n",
       "min      0.000000                  0.078000   21.000000    0.000000  \n",
       "25%     27.300000                  0.243750   24.000000    0.000000  \n",
       "50%     32.000000                  0.372500   29.000000    0.000000  \n",
       "75%     36.600000                  0.626250   41.000000    1.000000  \n",
       "max     67.100000                  2.420000   81.000000    1.000000  "
      ]
     },
     "execution_count": 3,
     "metadata": {},
     "output_type": "execute_result"
    }
   ],
   "source": [
    "# I am checking for outliers. Maximum values for all features are reasonable. No values look strange for me. \n",
    "# there is no outliers in our dataset.\n",
    "\n",
    "pima_df.describe()"
   ]
  },
  {
   "cell_type": "markdown",
   "id": "a626557e",
   "metadata": {},
   "source": [
    "## 1.Work to improve the model performance for the diabetes decision tree we created in class. You should be able to improve the precision and recall to be above .8 and .7 respectively. You can improve the preprocessing OR alter the model itself."
   ]
  },
  {
   "cell_type": "code",
   "execution_count": 5,
   "id": "91adfe2b",
   "metadata": {},
   "outputs": [
    {
     "name": "stdout",
     "output_type": "stream",
     "text": [
      "              precision    recall  f1-score   support\n",
      "\n",
      "           0       0.77      0.79      0.78       150\n",
      "           1       0.59      0.57      0.58        81\n",
      "\n",
      "    accuracy                           0.71       231\n",
      "   macro avg       0.68      0.68      0.68       231\n",
      "weighted avg       0.71      0.71      0.71       231\n",
      "\n"
     ]
    }
   ],
   "source": [
    "# model which we did in class\n",
    "X = pima_df.drop('Outcome',axis = 1)\n",
    "y = pima_df['Outcome']\n",
    "\n",
    "# Split into training and test set\n",
    "X_train, X_test, y_train, y_test = train_test_split(X, y, test_size = 0.3, random_state=6, stratify=y)\n",
    "\n",
    "#Standardize\n",
    "sc = StandardScaler()\n",
    "X_train_scale = sc.fit_transform(X_train)\n",
    "X_test_scale = sc.fit_transform(X_test)\n",
    "\n",
    "# fitting the model\n",
    "decision_tree = tree.DecisionTreeClassifier(max_depth = 8, random_state = 6)\n",
    "decision_tree.fit(X_train_scale,y_train)\n",
    "y_pred = decision_tree.predict(X_test_scale)\n",
    "\n",
    "# printing performance metrics\n",
    "print(classification_report(y_test,y_pred))"
   ]
  },
  {
   "cell_type": "code",
   "execution_count": 6,
   "id": "d2d03fb3",
   "metadata": {},
   "outputs": [
    {
     "data": {
      "text/plain": [
       "0    350\n",
       "1    187\n",
       "Name: Outcome, dtype: int64"
      ]
     },
     "execution_count": 6,
     "metadata": {},
     "output_type": "execute_result"
    }
   ],
   "source": [
    "y_train.value_counts()"
   ]
  },
  {
   "cell_type": "markdown",
   "id": "91d52018",
   "metadata": {},
   "source": [
    "#### Using resamplimg to improve precision, recall\n",
    "\n",
    "* There is an imbalance in Outcome column. I am using SMOTE resampling technique to balance the data. "
   ]
  },
  {
   "cell_type": "code",
   "execution_count": 47,
   "id": "451fff55",
   "metadata": {},
   "outputs": [
    {
     "name": "stdout",
     "output_type": "stream",
     "text": [
      "                   pre       rec       spe        f1       geo       iba       sup\n",
      "\n",
      "          0       0.89      0.67      0.84      0.77      0.75      0.56       150\n",
      "          1       0.58      0.84      0.67      0.69      0.75      0.57        81\n",
      "\n",
      "avg / total       0.78      0.73      0.78      0.74      0.75      0.56       231\n",
      "\n"
     ]
    }
   ],
   "source": [
    "# I am going to re-balance the data using SMOTE\n",
    "smote = SMOTE(random_state =6 )\n",
    "X_resample, y_resample = smote.fit_resample(X_train_scale,y_train)\n",
    "\n",
    "# fitting the model for resampled inputs\n",
    "decision_tree = tree.DecisionTreeClassifier(max_depth = 4)\n",
    "decision_tree.fit(X_resample,y_resample)\n",
    "y_pred = decision_tree.predict(X_test_scale)\n",
    "\n",
    "# Since I did resampling, I am checking classification_report_imbalanced metric from sklearn.imblearn library\n",
    "print(classification_report_imbalanced(y_test,y_pred))"
   ]
  },
  {
   "cell_type": "markdown",
   "id": "626318b7",
   "metadata": {},
   "source": [
    "* My recall was improved well after balancing data. But still no improvements from precision. "
   ]
  },
  {
   "cell_type": "markdown",
   "id": "6dd5ab8b",
   "metadata": {},
   "source": [
    "#### Hyper parameter tuning with GridSearchCV\n",
    "\n",
    "* I decided to tune decision tree hyper parameters with cross validation. And also I have treated 0s in our dataset as Nans and replaced it with its mean. "
   ]
  },
  {
   "cell_type": "code",
   "execution_count": 13,
   "id": "956597e4",
   "metadata": {},
   "outputs": [],
   "source": [
    "pima_df['SkinThickness']=pima_df['SkinThickness'].replace(0,pima_df['SkinThickness'].mean())"
   ]
  },
  {
   "cell_type": "code",
   "execution_count": 14,
   "id": "3109dc53",
   "metadata": {},
   "outputs": [],
   "source": [
    "pima_df['Insulin'] = pima_df['Insulin'].replace(0,pima_df['Insulin'].mean())"
   ]
  },
  {
   "cell_type": "code",
   "execution_count": 15,
   "id": "bed11f16",
   "metadata": {},
   "outputs": [],
   "source": [
    "pima_df['BMI'] = pima_df['BMI'].replace(0,pima_df['BMI'].mean())"
   ]
  },
  {
   "cell_type": "code",
   "execution_count": 16,
   "id": "35d6d4e3",
   "metadata": {},
   "outputs": [],
   "source": [
    "pima_df['Glucose'] = pima_df['Glucose'].replace(0,pima_df['Glucose'].mean())"
   ]
  },
  {
   "cell_type": "code",
   "execution_count": 51,
   "id": "d03ef911",
   "metadata": {},
   "outputs": [
    {
     "name": "stdout",
     "output_type": "stream",
     "text": [
      "                   pre       rec       spe        f1       geo       iba       sup\n",
      "\n",
      "          0       0.90      0.71      0.85      0.79      0.78      0.59       150\n",
      "          1       0.61      0.85      0.71      0.71      0.78      0.61        81\n",
      "\n",
      "avg / total       0.80      0.76      0.80      0.76      0.78      0.60       231\n",
      "\n"
     ]
    },
    {
     "data": {
      "image/png": "[encoded data removed]",
      "text/plain": [
       "<Figure size 432x288 with 2 Axes>"
      ]
     },
     "metadata": {
      "needs_background": "light"
     },
     "output_type": "display_data"
    }
   ],
   "source": [
    "# fitting the model\n",
    "decision_tree = tree.DecisionTreeClassifier(random_state = 6)\n",
    "parameters = {'criterion':['gini'], \n",
    "              'max_depth':[4],\n",
    "              'max_features':[8],\n",
    "              'min_samples_split': np.arange(5,20),\n",
    "              'min_samples_leaf':np.arange(5,20)}\n",
    "\n",
    "grid = GridSearchCV(decision_tree,parameters, cv = 10)\n",
    "grid.fit(X_resample,y_resample)\n",
    "\n",
    "# predicting outcome\n",
    "y_pred = grid.predict(X_test_scale)\n",
    "y_pred_prob = grid.predict_proba(X_test_scale)[:,1]\n",
    "\n",
    "# printing performance metrics\n",
    "print(classification_report_imbalanced(y_test,y_pred))\n",
    "cm = confusion_matrix(y_test,y_pred)\n",
    "ConfusionMatrixDisplay(cm).plot();"
   ]
  },
  {
   "cell_type": "markdown",
   "id": "a74e3958",
   "metadata": {},
   "source": [
    "#### Great Improvement in recall compare to other classifiers as far we used\n",
    "\n",
    "Comparing performance \n",
    "\n",
    "|       metrics          |    KNN Method | LogisticRegression | Logistic Regression after SMOTE| Decision Tree Classifier|\n",
    "|:----------------------:|:-------------:|:------------------:|:------------------------------:|:-----------------------:|\n",
    "| RECALL score           |       0.59    |        0.52        |          0.67                  |          0.85           |\n",
    "| No. of False Negatives |        33     |         43         |           27                   |           12            |"
   ]
  },
  {
   "cell_type": "markdown",
   "id": "2e527793",
   "metadata": {},
   "source": [
    "#### Increasing Decision Threshold\n",
    "\n",
    "* We can find the best value for Decision Threshold which will give High Precision(Without affection Recall much) or High Recall(Without affecting Precision much). Calculated Optimal threshold from roc curve and used it as Decision threshold."
   ]
  },
  {
   "cell_type": "code",
   "execution_count": 52,
   "id": "9593ad00",
   "metadata": {},
   "outputs": [
    {
     "name": "stdout",
     "output_type": "stream",
     "text": [
      "0.6265060240963856\n"
     ]
    }
   ],
   "source": [
    "fpr, tpr, thresholds = roc_curve(y_test,y_pred_prob)\n",
    "optimal = np.argmax(tpr - fpr) \n",
    "optimal_threshold = thresholds[optimal]\n",
    "print(optimal_threshold)"
   ]
  },
  {
   "cell_type": "code",
   "execution_count": 53,
   "id": "901f1e9f",
   "metadata": {},
   "outputs": [
    {
     "name": "stdout",
     "output_type": "stream",
     "text": [
      "                   pre       rec       spe        f1       geo       iba       sup\n",
      "\n",
      "          0       0.87      0.84      0.77      0.85      0.80      0.65       150\n",
      "          1       0.72      0.77      0.84      0.74      0.80      0.64        81\n",
      "\n",
      "avg / total       0.82      0.81      0.79      0.82      0.80      0.64       231\n",
      "\n"
     ]
    },
    {
     "data": {
      "image/png": "[encoded data removed]",
      "text/plain": [
       "<Figure size 432x288 with 2 Axes>"
      ]
     },
     "metadata": {
      "needs_background": "light"
     },
     "output_type": "display_data"
    }
   ],
   "source": [
    "prediction = []\n",
    "decision_threshold = 0.62\n",
    "for i in y_pred_prob:\n",
    "    if i < decision_threshold:\n",
    "        prediction.append(0)\n",
    "    else:\n",
    "        prediction.append(1)\n",
    "        \n",
    "print(classification_report_imbalanced(y_test,prediction))\n",
    "cm = confusion_matrix(y_test,prediction)\n",
    "ConfusionMatrixDisplay(cm).plot();"
   ]
  },
  {
   "cell_type": "markdown",
   "id": "99c33697",
   "metadata": {},
   "source": [
    "* Model performed well and gave an improvement in precision score. But our recall value reduced slightly. But I can proudly say that this model predicted 0s as 0 and 1s as 1 well. Because we got both precision and recall score for class 1 above 70%."
   ]
  },
  {
   "cell_type": "markdown",
   "id": "13e40a38",
   "metadata": {},
   "source": [
    "#### Is Overfitted or Underfitted?\n",
    "\n",
    "* We can find whether our model is overfitted or underfitted by using training score and testing score.\n",
    "* Both scores are equal. So its not under or over fitted model."
   ]
  },
  {
   "cell_type": "code",
   "execution_count": 57,
   "id": "ad1ff1d3",
   "metadata": {},
   "outputs": [
    {
     "name": "stdout",
     "output_type": "stream",
     "text": [
      "Training Score 0.76\n",
      "Testing Score 0.76\n"
     ]
    }
   ],
   "source": [
    "print(\"Training Score\",grid.score(X_train_scale,y_train).round(2))\n",
    "print(\"Testing Score\",grid.score(X_test_scale,y_test).round(2))"
   ]
  },
  {
   "cell_type": "markdown",
   "id": "7063c35e",
   "metadata": {},
   "source": [
    "#### decision tree diagram"
   ]
  },
  {
   "cell_type": "code",
   "execution_count": 50,
   "id": "41d001b7",
   "metadata": {
    "scrolled": false
   },
   "outputs": [
    {
     "data": {
      "image/png": "[encoded data removed]",
      "text/plain": [
       "<Figure size 1440x720 with 1 Axes>"
      ]
     },
     "metadata": {
      "needs_background": "light"
     },
     "output_type": "display_data"
    }
   ],
   "source": [
    "fig,ax = plt.subplots(figsize = (20,10))\n",
    "tree.plot_tree(decision_tree)\n",
    "plt.savefig(\"tree.svg\")\n",
    "plt.show()"
   ]
  },
  {
   "cell_type": "markdown",
   "id": "1f9296fc",
   "metadata": {},
   "source": [
    "### Steps I have used to increase precison and recall:\n",
    "\n",
    "* Treated 0s in the dataset as Nans and replaced 0s with mean(preprocessing)\n",
    "\n",
    "* Standardized the data(preprocessing)\n",
    "\n",
    "* I did rebalance the data using SMOTE Technique(resampling)\n",
    "\n",
    "* Used GridSearchCV method and tuned my parameters(Hyper Parameter tuning)\n",
    "\n",
    "* Changed the threshold value to increase precision score."
   ]
  },
  {
   "cell_type": "markdown",
   "id": "996939c8",
   "metadata": {},
   "source": [
    "## 2. Create a function that accepts an array of names and returns a string formatted as a list of names separated by commas EXCEPT for the last two names, which are separated by an ampersand (and sign - &)\n",
    "Example input:\n",
    "[ {'name': 'Nichole'}, {'name': 'Tanisha'}, {'name': 'Maggie'} ]\n",
    "\n",
    "Example output:\n",
    "Nichole, Tanisha & Maggie"
   ]
  },
  {
   "cell_type": "code",
   "execution_count": 68,
   "id": "9d22cd94",
   "metadata": {},
   "outputs": [],
   "source": [
    "def name_comma(namelist):\n",
    "    name_str = \"\"\n",
    "    if len(namelist) != 0:\n",
    "        name_arr = []\n",
    "        for i in range(0, len(namelist) - 1):\n",
    "            name_arr.append(namelist[i]['name'])\n",
    "            name_str = ', '.join(name_arr)\n",
    "            name_str += ' & ' + namelist[-1]['name'] if name_str != '' else namelist[-1]['name']\n",
    "    print(name_str)"
   ]
  },
  {
   "cell_type": "code",
   "execution_count": 69,
   "id": "ad857ef8",
   "metadata": {},
   "outputs": [
    {
     "name": "stdout",
     "output_type": "stream",
     "text": [
      "Nichole, Tanisha, Maggie & Mangai\n"
     ]
    }
   ],
   "source": [
    "name_list = [ {'name': 'Nichole'}, {'name': 'Tanisha'}, {'name': 'Maggie'}, {'name': 'Mangai'}]\n",
    "name_comma(name_list)"
   ]
  }
 ],
 "metadata": {
  "kernelspec": {
   "display_name": "Python 3 (ipykernel)",
   "language": "python",
   "name": "python3"
  },
  "language_info": {
   "codemirror_mode": {
    "name": "ipython",
    "version": 3
   },
   "file_extension": ".py",
   "mimetype": "text/x-python",
   "name": "python",
   "nbconvert_exporter": "python",
   "pygments_lexer": "ipython3",
   "version": "3.7.4"
  }
 },
 "nbformat": 4,
 "nbformat_minor": 5
}
